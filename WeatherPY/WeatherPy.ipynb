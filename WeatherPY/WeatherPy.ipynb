{
 "cells": [
  {
   "cell_type": "code",
   "execution_count": 26,
   "metadata": {},
   "outputs": [],
   "source": [
    "# Dependencies and Setup\n",
    "import matplotlib.pyplot as plt\n",
    "import pandas as pd\n",
    "import numpy as np\n",
    "import requests\n",
    "import time\n",
    "import json\n",
    "from scipy.stats import linregress\n",
    "\n",
    "# Import API key\n",
    "from config import api_key\n",
    "\n",
    "# Incorporated citipy to determine city based on latitude and longitude\n",
    "from citipy import citipy\n",
    "\n",
    "# Output File (CSV)\n",
    "output_data_file = \"output_data/cities.csv\"\n",
    "\n",
    "# Range of latitudes and longitudes\n",
    "lat_range = (-90, 90)\n",
    "lng_range = (-180, 180)"
   ]
  },
  {
   "cell_type": "markdown",
   "metadata": {},
   "source": [
    "## Generate Cities List"
   ]
  },
  {
   "cell_type": "code",
   "execution_count": 27,
   "metadata": {},
   "outputs": [
    {
     "data": {
      "text/plain": [
       "586"
      ]
     },
     "execution_count": 27,
     "metadata": {},
     "output_type": "execute_result"
    }
   ],
   "source": [
    "# List for holding lat_lngs and cities\n",
    "lat_lngs = []\n",
    "cities = []\n",
    "\n",
    "# Create a set of random lat and lng combinations\n",
    "lats = np.random.uniform(lat_range[0], lat_range[1], size=1500)\n",
    "lngs = np.random.uniform(lng_range[0], lng_range[1], size=1500)\n",
    "lat_lngs = zip(lats, lngs)\n",
    "\n",
    "# Identify nearest city for each lat, lng combination\n",
    "for lat_lng in lat_lngs:\n",
    "    city = citipy.nearest_city(lat_lng[0], lat_lng[1]).city_name\n",
    "    \n",
    "    # If the city is unique, then add it to a our cities list\n",
    "    if city not in cities:\n",
    "        cities.append(city)\n",
    "\n",
    "# Print the city count to confirm sufficient count\n",
    "len(cities)"
   ]
  },
  {
   "cell_type": "markdown",
   "metadata": {},
   "source": [
    "## Perform API Calls\n",
    "- Perform a weather check on each city using a series of successive API calls.\n",
    "- Include a print log of each city as it'sbeing processed (with the city number and city name)."
   ]
  },
  {
   "cell_type": "code",
   "execution_count": 28,
   "metadata": {},
   "outputs": [],
   "source": [
    "#Create empty lists to hold relevant data\n",
    "\n",
    "city_name = []\n",
    "cloudiness = []\n",
    "country_code = []\n",
    "date = []\n",
    "humidity = []\n",
    "lat = []\n",
    "lng = []\n",
    "max_temp = []\n",
    "wind_speed = []\n",
    "\n"
   ]
  },
  {
   "cell_type": "code",
   "execution_count": 35,
   "metadata": {},
   "outputs": [
    {
     "name": "stdout",
     "output_type": "stream",
     "text": [
      "{\n",
      "    \"base\": \"stations\",\n",
      "    \"clouds\": {\n",
      "        \"all\": 40\n",
      "    },\n",
      "    \"cod\": 200,\n",
      "    \"coord\": {\n",
      "        \"lat\": 22.28,\n",
      "        \"lon\": 113.57\n",
      "    },\n",
      "    \"dt\": 1607896543,\n",
      "    \"id\": 1790437,\n",
      "    \"main\": {\n",
      "        \"feels_like\": 69.39,\n",
      "        \"humidity\": 88,\n",
      "        \"pressure\": 1015,\n",
      "        \"temp\": 68.22,\n",
      "        \"temp_max\": 69.8,\n",
      "        \"temp_min\": 66.99\n",
      "    },\n",
      "    \"name\": \"Zhuhai\",\n",
      "    \"sys\": {\n",
      "        \"country\": \"CN\",\n",
      "        \"id\": 9204,\n",
      "        \"sunrise\": 1607900221,\n",
      "        \"sunset\": 1607939037,\n",
      "        \"type\": 1\n",
      "    },\n",
      "    \"timezone\": 28800,\n",
      "    \"visibility\": 10000,\n",
      "    \"weather\": [\n",
      "        {\n",
      "            \"description\": \"scattered clouds\",\n",
      "            \"icon\": \"03n\",\n",
      "            \"id\": 802,\n",
      "            \"main\": \"Clouds\"\n",
      "        }\n",
      "    ],\n",
      "    \"wind\": {\n",
      "        \"deg\": 30,\n",
      "        \"speed\": 6.93\n",
      "    }\n",
      "}\n"
     ]
    }
   ],
   "source": [
    "base_url = \"http://api.openweathermap.org/data/2.5/weather?\"\n",
    "units = \"Imperial\"\n",
    "\n",
    "response = requests.get(f\"{base_url}appid={api_key}&units={units}&q=zhuhai\").json()\n",
    "print(json.dumps(response, indent=4, sort_keys=True))\n",
    "#print(response[\"name\"])\n",
    "\n",
    "\n",
    "# use iterrows to iterate through pandas dataframe\n",
    "#for city in cities:\n",
    "   # try:\n",
    "        #response = requests.get(f\"{base_url}appid={api_key}&units={units}&q=\"+city).json()\n",
    "        #city_name.append(response[\"name\"])\n",
    "        #cloudiness.append(response[\"clouds\"][\"all\"])\n",
    "       # country_code.append(response[\"sys\"][\"country\"])\n",
    "        \n",
    "        \n",
    "    #except (KeyError, IndexError):\n",
    "        #print(\"Missing field/result... skipping.\")\n",
    "        \n",
    "    #print(f\"{city}\")\n",
    "\n",
    "#print(city_name)\n",
    "\n",
    "\n"
   ]
  },
  {
   "cell_type": "code",
   "execution_count": null,
   "metadata": {},
   "outputs": [],
   "source": []
  }
 ],
 "metadata": {
  "kernelspec": {
   "display_name": "Python 3",
   "language": "python",
   "name": "python3"
  },
  "language_info": {
   "codemirror_mode": {
    "name": "ipython",
    "version": 3
   },
   "file_extension": ".py",
   "mimetype": "text/x-python",
   "name": "python",
   "nbconvert_exporter": "python",
   "pygments_lexer": "ipython3",
   "version": "3.8.5"
  }
 },
 "nbformat": 4,
 "nbformat_minor": 4
}
