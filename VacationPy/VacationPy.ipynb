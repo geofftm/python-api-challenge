{
 "cells": [
  {
   "cell_type": "code",
   "execution_count": 1,
   "metadata": {},
   "outputs": [],
   "source": [
    "# Dependencies and Setup\n",
    "import matplotlib.pyplot as plt\n",
    "import pandas as pd\n",
    "import numpy as np\n",
    "import requests\n",
    "import gmaps\n",
    "import os\n",
    "\n",
    "# Import API key\n",
    "from config import gkey"
   ]
  },
  {
   "cell_type": "markdown",
   "metadata": {},
   "source": [
    "### Store Part I results into DataFrame\n",
    "* Load the csv exported in Part I to a DataFrame"
   ]
  },
  {
   "cell_type": "code",
   "execution_count": 27,
   "metadata": {},
   "outputs": [
    {
     "data": {
      "text/html": [
       "<div>\n",
       "<style scoped>\n",
       "    .dataframe tbody tr th:only-of-type {\n",
       "        vertical-align: middle;\n",
       "    }\n",
       "\n",
       "    .dataframe tbody tr th {\n",
       "        vertical-align: top;\n",
       "    }\n",
       "\n",
       "    .dataframe thead th {\n",
       "        text-align: right;\n",
       "    }\n",
       "</style>\n",
       "<table border=\"1\" class=\"dataframe\">\n",
       "  <thead>\n",
       "    <tr style=\"text-align: right;\">\n",
       "      <th></th>\n",
       "      <th>City</th>\n",
       "      <th>Cloudiness</th>\n",
       "      <th>Country Code</th>\n",
       "      <th>Date</th>\n",
       "      <th>Humidity</th>\n",
       "      <th>Latitude</th>\n",
       "      <th>Longitude</th>\n",
       "      <th>Max Temp</th>\n",
       "      <th>Wind Speed</th>\n",
       "    </tr>\n",
       "  </thead>\n",
       "  <tbody>\n",
       "    <tr>\n",
       "      <th>0</th>\n",
       "      <td>Ponta do Sol</td>\n",
       "      <td>20.0</td>\n",
       "      <td>PT</td>\n",
       "      <td>1.607904e+09</td>\n",
       "      <td>82.0</td>\n",
       "      <td>32.67</td>\n",
       "      <td>-17.10</td>\n",
       "      <td>62.60</td>\n",
       "      <td>4.70</td>\n",
       "    </tr>\n",
       "    <tr>\n",
       "      <th>1</th>\n",
       "      <td>Bathsheba</td>\n",
       "      <td>20.0</td>\n",
       "      <td>BB</td>\n",
       "      <td>1.607904e+09</td>\n",
       "      <td>83.0</td>\n",
       "      <td>13.22</td>\n",
       "      <td>-59.52</td>\n",
       "      <td>78.80</td>\n",
       "      <td>6.93</td>\n",
       "    </tr>\n",
       "    <tr>\n",
       "      <th>2</th>\n",
       "      <td>Dikson</td>\n",
       "      <td>100.0</td>\n",
       "      <td>RU</td>\n",
       "      <td>1.607904e+09</td>\n",
       "      <td>92.0</td>\n",
       "      <td>73.51</td>\n",
       "      <td>80.55</td>\n",
       "      <td>-2.51</td>\n",
       "      <td>14.23</td>\n",
       "    </tr>\n",
       "    <tr>\n",
       "      <th>3</th>\n",
       "      <td>Penzance</td>\n",
       "      <td>83.0</td>\n",
       "      <td>GB</td>\n",
       "      <td>1.607904e+09</td>\n",
       "      <td>87.0</td>\n",
       "      <td>50.12</td>\n",
       "      <td>-5.54</td>\n",
       "      <td>51.80</td>\n",
       "      <td>26.40</td>\n",
       "    </tr>\n",
       "    <tr>\n",
       "      <th>4</th>\n",
       "      <td>Adrar</td>\n",
       "      <td>90.0</td>\n",
       "      <td>MR</td>\n",
       "      <td>1.607904e+09</td>\n",
       "      <td>27.0</td>\n",
       "      <td>20.50</td>\n",
       "      <td>-10.07</td>\n",
       "      <td>64.13</td>\n",
       "      <td>7.11</td>\n",
       "    </tr>\n",
       "  </tbody>\n",
       "</table>\n",
       "</div>"
      ],
      "text/plain": [
       "           City  Cloudiness Country Code          Date  Humidity  Latitude  \\\n",
       "0  Ponta do Sol        20.0           PT  1.607904e+09      82.0     32.67   \n",
       "1     Bathsheba        20.0           BB  1.607904e+09      83.0     13.22   \n",
       "2        Dikson       100.0           RU  1.607904e+09      92.0     73.51   \n",
       "3      Penzance        83.0           GB  1.607904e+09      87.0     50.12   \n",
       "4         Adrar        90.0           MR  1.607904e+09      27.0     20.50   \n",
       "\n",
       "   Longitude  Max Temp  Wind Speed  \n",
       "0     -17.10     62.60        4.70  \n",
       "1     -59.52     78.80        6.93  \n",
       "2      80.55     -2.51       14.23  \n",
       "3      -5.54     51.80       26.40  \n",
       "4     -10.07     64.13        7.11  "
      ]
     },
     "execution_count": 27,
     "metadata": {},
     "output_type": "execute_result"
    }
   ],
   "source": [
    "city_wx = pd.read_csv(\"../WeatherPy/city_wx.csv\")\n",
    "city_wx.head()"
   ]
  },
  {
   "cell_type": "markdown",
   "metadata": {},
   "source": [
    "### Humidity Heatmap\n",
    "* Configure gmaps.\n",
    "* Use the Lat and Lng as locations and Humidity as the weight.\n",
    "* Add Heatmap layer to map."
   ]
  },
  {
   "cell_type": "code",
   "execution_count": 13,
   "metadata": {},
   "outputs": [
    {
     "data": {
      "application/vnd.jupyter.widget-view+json": {
       "model_id": "1fbab78a85e14cbcbec262e1022983a0",
       "version_major": 2,
       "version_minor": 0
      },
      "text/plain": [
       "Figure(layout=FigureLayout(height='420px'))"
      ]
     },
     "metadata": {},
     "output_type": "display_data"
    }
   ],
   "source": [
    "# Store latitude and longitude in locations\n",
    "\n",
    "locations = city_wx[[\"Latitude\", \"Longitude\"]]\n",
    "\n",
    "humidity = city_wx[\"Humidity\"]\n",
    "\n",
    "# Plot Heatmap\n",
    "\n",
    "fig = gmaps.figure()\n",
    "\n",
    "#create heat layer\n",
    "\n",
    "heat_layer = gmaps.heatmap_layer(locations, weights=humidity, dissipating=False, \n",
    "                                 max_intensity=10, point_radius=1)\n",
    "\n",
    "#add layer\n",
    "\n",
    "fig.add_layer(heat_layer)\n",
    "\n",
    "#display figure\n",
    "\n",
    "fig\n",
    "\n",
    "# Filla NaN values and convert to float\n",
    "\n",
    "#rating = cities_pd[\"Airport Rating\"].astype(float)"
   ]
  },
  {
   "cell_type": "markdown",
   "metadata": {},
   "source": [
    "### Create new DataFrame fitting weather criteria\n",
    "* Narrow down the cities to fit weather conditions.\n",
    "* Drop any rows will null values."
   ]
  },
  {
   "cell_type": "code",
   "execution_count": 33,
   "metadata": {},
   "outputs": [
    {
     "data": {
      "text/plain": [
       "City            9\n",
       "Cloudiness      9\n",
       "Country Code    9\n",
       "Date            9\n",
       "Humidity        9\n",
       "Latitude        9\n",
       "Longitude       9\n",
       "Max Temp        9\n",
       "Wind Speed      9\n",
       "dtype: int64"
      ]
     },
     "execution_count": 33,
     "metadata": {},
     "output_type": "execute_result"
    }
   ],
   "source": [
    "ideal_wx = city_wx.loc[(city_wx[\"Humidity\"] >= 20) & (city_wx[\"Humidity\"] <= 60) & \\\n",
    "                       (city_wx[\"Wind Speed\"] <= 10) & (city_wx[\"Max Temp\"] >=70) & \\\n",
    "                       (city_wx[\"Max Temp\"] <= 89) & (city_wx[\"Cloudiness\"] <= 5)]\n",
    "                                                                            \n",
    "\n",
    "ideal_wx.count()\n",
    "\n"
   ]
  },
  {
   "cell_type": "code",
   "execution_count": null,
   "metadata": {},
   "outputs": [],
   "source": []
  }
 ],
 "metadata": {
  "kernelspec": {
   "display_name": "Python 3",
   "language": "python",
   "name": "python3"
  },
  "language_info": {
   "codemirror_mode": {
    "name": "ipython",
    "version": 3
   },
   "file_extension": ".py",
   "mimetype": "text/x-python",
   "name": "python",
   "nbconvert_exporter": "python",
   "pygments_lexer": "ipython3",
   "version": "3.8.5"
  }
 },
 "nbformat": 4,
 "nbformat_minor": 4
}
